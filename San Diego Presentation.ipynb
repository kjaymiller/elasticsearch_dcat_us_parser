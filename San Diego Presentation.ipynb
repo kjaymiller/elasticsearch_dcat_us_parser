{
 "cells": [
  {
   "cell_type": "markdown",
   "metadata": {},
   "source": [
    "# I'm Jay. \n",
    "\n",
    "I'm a Developer Advocate at Elastic, based in San Diego, Ca. I enjoy finding unique ways to merge his fascination with productivity, automation, and development to create tools and content to serve the tech  and greater community."
   ]
  },
  {
   "cell_type": "markdown",
   "metadata": {},
   "source": [
    "## What I want to talk about is projects that matter\n",
    "\n",
    "- To you\n",
    "- To Others\n",
    "- To People who aren't alive yet"
   ]
  },
  {
   "cell_type": "markdown",
   "metadata": {},
   "source": [
    "# Did you know?\n",
    "\n",
    "## If you live in a major metropolitan area in the United States you have access to plenty of data that is available to you."
   ]
  },
  {
   "cell_type": "markdown",
   "metadata": {},
   "source": [
    "# That includes <!--INSERT CITY HERE and link to it's Portal --> [San Diego](https://data.sandiego.gov/datasets/)\n"
   ]
  },
  {
   "cell_type": "markdown",
   "metadata": {},
   "source": [
    "There is a wide array of data that is available _If you know how to look for it_"
   ]
  },
  {
   "cell_type": "markdown",
   "metadata": {},
   "source": [
    "<!--The GitHub Repository for your Locations Data Portal and it's catalog -->\n",
    "- https://github.com/COSD-PANDA/seaboard\n",
    "- https://github.com/COSD-PANDA/data-inventory/"
   ]
  },
  {
   "cell_type": "markdown",
   "metadata": {},
   "source": [
    "This catalog spec is defined by the [DCAT-US Schema](https://resources.data.gov/resources/dcat-us/#metadata-file-format---json)."
   ]
  },
  {
   "cell_type": "markdown",
   "metadata": {},
   "source": [
    "Using the spec I was able to index the data into an Elasticsearch DB"
   ]
  },
  {
   "cell_type": "markdown",
   "metadata": {},
   "source": [
    "```python\n",
    "# dcat_parser.py\n",
    "\n",
    "es_index = os.environ.get(\"ES_INDEX\")\n",
    "input_file = \"data.json\"\n",
    "\n",
    "def gen_id(*args):\n",
    "    \"\"\"Create an unique identifier based on the identifier and contactPoint\n",
    "    of the dcat data\n",
    "    \"\"\"\n",
    "    return hashlib.sha1(''.join(args).encode(\"utf-8\")).hexdigest()\n",
    "\n",
    "\n",
    "def modify_dataset(dataset):\n",
    "    for dataset in datasets:\n",
    "        dataset['_id'] = gen_id(dataset['contactPoint']['fn'], dataset['identifier'])\n",
    "        dataset[\"city\"] = city\n",
    "        dataset[\"region\"] = region\n",
    "        yield dataset\n",
    "\n",
    "\n",
    "def upload(dataset: typing.Sequence, *args, **kwargs):\n",
    "    \"\"\"Set the region to <State>, Country Abbreviation\"\"\"\n",
    "\n",
    "    with open(input_file) as json_file:\n",
    "        bulk(\n",
    "            client=client,\n",
    "            index=es_index,\n",
    "            actions=modify_dataset(json.load(json_file)[\"dataset\"], *kwargs, **kwargs),\n",
    "        )\n"
   ]
  }
 ],
 "metadata": {
  "kernelspec": {
   "display_name": "Python 3",
   "language": "python",
   "name": "python3"
  },
  "language_info": {
   "codemirror_mode": {
    "name": "ipython",
    "version": 3
   },
   "file_extension": ".py",
   "mimetype": "text/x-python",
   "name": "python",
   "nbconvert_exporter": "python",
   "pygments_lexer": "ipython3",
   "version": "3.8.5"
  }
 },
 "nbformat": 4,
 "nbformat_minor": 4
}
