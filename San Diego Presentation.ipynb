{
 "cells": [
  {
   "cell_type": "markdown",
   "metadata": {},
   "source": [
    "# I'm Jay. \n",
    "\n",
    "I'm a Developer Advocate at Elastic, based in San Diego, Ca. I enjoy finding unique ways to merge his fascination with productivity, automation, and development to create tools and content to serve the tech  and greater community."
   ]
  },
  {
   "cell_type": "markdown",
   "metadata": {},
   "source": [
    "## What I want to talk about is projects that matter\n",
    "\n",
    "- To you\n",
    "- To Others\n",
    "- To People who aren't alive yet"
   ]
  },
  {
   "cell_type": "markdown",
   "metadata": {},
   "source": [
    "# Did you know?\n",
    "\n",
    "## If you live in a major metropolitan area in the United States you have access to plenty of data that is available to you."
   ]
  },
  {
   "cell_type": "markdown",
   "metadata": {},
   "source": [
    "# That includes <!--INSERT CITY HERE and link to it's Portal --> [San Diego](https://data.sandiego.gov/datasets/)\n"
   ]
  },
  {
   "cell_type": "markdown",
   "metadata": {},
   "source": [
    "There is a wide array of data that is available _If you know how to look for it_"
   ]
  },
  {
   "cell_type": "markdown",
   "metadata": {},
   "source": [
    "<!--The GitHub Repository for your Locations Data Portal and it's catalog -->\n",
    "- https://github.com/COSD-PANDA/seaboard\n",
    "- https://github.com/COSD-PANDA/data-inventory/"
   ]
  },
  {
   "cell_type": "markdown",
   "metadata": {},
   "source": [
    "This catalog spec is defined by the [DCAT-US Schema](https://resources.data.gov/resources/dcat-us/#metadata-file-format---json)."
   ]
  },
  {
   "cell_type": "markdown",
   "metadata": {},
   "source": [
    "Using the spec I was able to index the data into an Elasticsearch DB"
   ]
  },
  {
   "cell_type": "markdown",
   "metadata": {},
   "source": [
    "## Here's my code to prep our data...\n",
    "\n",
    "focus on `modify_dataset`"
   ]
  },
  {
   "cell_type": "code",
   "execution_count": 2,
   "metadata": {},
   "outputs": [],
   "source": [
    "# dcat_parser.py\n",
    "\n",
    "\"\"\"Load JSON File and Load the Data into Elasticsearch\"\"\"\n",
    "\n",
    "import hashlib\n",
    "import json\n",
    "import typing\n",
    "\n",
    "from elasticsearch.helpers import bulk\n",
    "\n",
    "def gen_id(*args):\n",
    "    \"\"\"Create an unique identifier based on the identifier and contactPoint\n",
    "    of the dcat data\n",
    "    \"\"\"\n",
    "    return hashlib.sha1(''.join(args).encode(\"utf-8\")).hexdigest()\n",
    "\n",
    "\n",
    "def modify_dataset(datasets, **kwargs):\n",
    "    for dataset in datasets:\n",
    "        dataset['_id'] = gen_id(dataset['identifier'], dataset['contactPoint']['fn'])\n",
    "        dataset[\"city\"] = kwargs.get('city', '')\n",
    "        dataset[\"region\"] = kwargs.get('region', '')\n",
    "        url = dataset['identifier'].replace('_', '-')\n",
    "\n",
    "        if url.endswith('gis'):\n",
    "            url = url[:-4]\n",
    "        dataset['url'] = kwargs.get('base_url') + \"/\" + url\n",
    "        yield dataset\n",
    "\n",
    "\n",
    "def upload(dataset: typing.Sequence, *, client, index, **kwargs):\n",
    "        bulk(\n",
    "            client=client,\n",
    "            index=index,\n",
    "            actions=modify_dataset(dataset, **kwargs),\n",
    "        )"
   ]
  },
  {
   "cell_type": "markdown",
   "metadata": {},
   "source": [
    "## Now Let's Load our Data"
   ]
  },
  {
   "cell_type": "code",
   "execution_count": 1,
   "metadata": {},
   "outputs": [],
   "source": [
    "# upload.py\n",
    "from dotenv import load_dotenv\n",
    "import os\n",
    "import json\n",
    "from dcat_parser import upload\n",
    "from connection import client\n",
    "\n",
    "load_dotenv('.env')\n",
    "\n",
    "es_index = os.environ.get(\"ES_INDEX\")\n",
    "input_file = \"data.json\"\n",
    "\n",
    "with open(input_file) as json_file:\n",
    "    upload(\n",
    "            json.load(json_file)[\"dataset\"],\n",
    "            client=client,\n",
    "            index = es_index,\n",
    "            city=\"San Diego\",\n",
    "            region=\"California\",\n",
    "            base_url=\"https://data.sandiego.gov/datasets/\"\n",
    "            )"
   ]
  },
  {
   "cell_type": "markdown",
   "metadata": {},
   "source": [
    "You can help me with this if you like on GitHub.\n",
    "- [DcatParser](https://github.com/kjaymiller/elasticsearch_dcat_us_parser/)\n",
    "- [OpenCities]()"
   ]
  }
 ],
 "metadata": {
  "kernelspec": {
   "display_name": "Python 3",
   "language": "python",
   "name": "python3"
  },
  "language_info": {
   "codemirror_mode": {
    "name": "ipython",
    "version": 3
   },
   "file_extension": ".py",
   "mimetype": "text/x-python",
   "name": "python",
   "nbconvert_exporter": "python",
   "pygments_lexer": "ipython3",
   "version": "3.8.5"
  }
 },
 "nbformat": 4,
 "nbformat_minor": 4
}
